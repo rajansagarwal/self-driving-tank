{
 "cells": [
  {
   "cell_type": "code",
   "execution_count": 4,
   "metadata": {},
   "outputs": [
    {
     "name": "stdout",
     "output_type": "stream",
     "text": [
      "WARNING:tensorflow:From c:\\Krish\\UW\\SE 101\\Project\\venv\\Lib\\site-packages\\keras\\src\\losses.py:2976: The name tf.losses.sparse_softmax_cross_entropy is deprecated. Please use tf.compat.v1.losses.sparse_softmax_cross_entropy instead.\n",
      "\n"
     ]
    }
   ],
   "source": [
    "import math\n",
    "import numpy as np\n",
    "import tensorflow as tf\n",
    "import cv2 as cv\n",
    "import os\n",
    "from feature_extraction import *\n",
    "\n",
    "IMG_WIDTH = 64\n",
    "IMG_HEIGHT = 32"
   ]
  },
  {
   "cell_type": "code",
   "execution_count": 5,
   "metadata": {},
   "outputs": [],
   "source": [
    "class eqn:\n",
    "    def __init__(self, y):\n",
    "        self.y = y\n",
    "    \n",
    "    def eval(self, x):\n",
    "        return (self.y[0] ** x) + (self.y[1] * x) + self.y[2]\n",
    "\n",
    "def flatten(x):\n",
    "    final = []\n",
    "    for pos1 in range(len(x)):\n",
    "        for pos2 in range(len(x[0])):\n",
    "            for pos3 in range(len(x[0][0])):\n",
    "                final.append(x[pos1][pos2][pos3])\n",
    "    return final"
   ]
  },
  {
   "cell_type": "code",
   "execution_count": 6,
   "metadata": {},
   "outputs": [],
   "source": [
    "features = []\n",
    "for path in os.listdir(os.getcwd() + \"\\\\Sidewalks\"):\n",
    "    img = cv.imread(os.getcwd() + \"\\\\Sidewalks\\\\\" + path)\n",
    "    features.append(flatten([edge_detection(img, IMG_WIDTH, IMG_HEIGHT), hue_detection(img, IMG_WIDTH, IMG_HEIGHT)]))\n",
    "\n",
    "train = np.array(features)"
   ]
  },
  {
   "cell_type": "code",
   "execution_count": 7,
   "metadata": {},
   "outputs": [],
   "source": [
    "def custom_loss(features, lines):\n",
    "    losses = []\n",
    "    for pos in range(0, len(features)):\n",
    "        x = features.numpy()[pos]\n",
    "        y = lines.numpy()[pos]\n",
    "        \n",
    "        SD = 10\n",
    "        HEIGHT = 40\n",
    "        normal = lambda SD, HEIGHT, M, x: (1/(SD*math.sqrt(2*math.pi))) * ((math.e ** ((-1/2) * (((x-M) / SD) ** 2)))) * HEIGHT\n",
    "\n",
    "        line = eqn(y)\n",
    "        mid = int(len(x) / 2)\n",
    "\n",
    "        max = 0\n",
    "        loss1 = 0\n",
    "        loss2 = 0\n",
    "        for x_pos in range(0, IMG_WIDTH):\n",
    "            y_line_pos = line.eval(x_pos)\n",
    "            for y_pos in range(0, IMG_HEIGHT):\n",
    "                val = normal(SD, HEIGHT, y_line_pos, y_pos)\n",
    "                pos = int((IMG_WIDTH * y_pos) + x_pos)\n",
    "                loss1 += x[pos] * val / 255\n",
    "                loss2 += x[pos + mid] * val / 255\n",
    "                max += val\n",
    "        if max != 0:\n",
    "            losses.append(min(((max - loss1) / max), ((max - loss2) / max)))\n",
    "        else:\n",
    "            losses.append(1)\n",
    "    return tf.convert_to_tensor(losses)"
   ]
  },
  {
   "cell_type": "code",
   "execution_count": 8,
   "metadata": {},
   "outputs": [],
   "source": [
    "def create_model():\n",
    "  return tf.keras.models.Sequential([\n",
    "    tf.keras.layers.Dense(4096, activation='relu'),\n",
    "    tf.keras.layers.Dense(5, kernel_initializer='RandomNormal', activation='relu'),\n",
    "    tf.keras.layers.Dense(3)\n",
    "    ])"
   ]
  },
  {
   "cell_type": "code",
   "execution_count": 9,
   "metadata": {},
   "outputs": [
    {
     "name": "stdout",
     "output_type": "stream",
     "text": [
      "WARNING:tensorflow:From c:\\Krish\\UW\\SE 101\\Project\\venv\\Lib\\site-packages\\keras\\src\\backend.py:873: The name tf.get_default_graph is deprecated. Please use tf.compat.v1.get_default_graph instead.\n",
      "\n",
      "WARNING:tensorflow:From c:\\Krish\\UW\\SE 101\\Project\\venv\\Lib\\site-packages\\keras\\src\\optimizers\\__init__.py:309: The name tf.train.Optimizer is deprecated. Please use tf.compat.v1.train.Optimizer instead.\n",
      "\n",
      "Epoch 1/20\n"
     ]
    },
    {
     "name": "stderr",
     "output_type": "stream",
     "text": [
      "C:\\Users\\kahns_\\AppData\\Local\\Temp\\__autograph_generated_file5h2glowd.py:24: RuntimeWarning: overflow encountered in scalar power\n",
      "  normal = ag__.autograph_artifact(lambda SD, HEIGHT, M, x: 1 / (ag__.ld(SD) * ag__.converted_call(ag__.ld(math).sqrt, (2 * ag__.ld(math).pi,), None, fscope)) * ag__.ld(math).e ** (-1 / 2 * ((ag__.ld(x) - ag__.ld(M)) / ag__.ld(SD)) ** 2) * ag__.ld(HEIGHT))\n"
     ]
    },
    {
     "name": "stdout",
     "output_type": "stream",
     "text": [
      "WARNING:tensorflow:From c:\\Krish\\UW\\SE 101\\Project\\venv\\Lib\\site-packages\\keras\\src\\utils\\tf_utils.py:492: The name tf.ragged.RaggedTensorValue is deprecated. Please use tf.compat.v1.ragged.RaggedTensorValue instead.\n",
      "\n"
     ]
    },
    {
     "ename": "ValueError",
     "evalue": "No gradients provided for any variable: (['dense/kernel:0', 'dense/bias:0', 'dense_1/kernel:0', 'dense_1/bias:0', 'dense_2/kernel:0', 'dense_2/bias:0'],). Provided `grads_and_vars` is ((None, <tf.Variable 'dense/kernel:0' shape=(4096, 4096) dtype=float32, numpy=\narray([[-0.00670535, -0.00027026,  0.01395421, ...,  0.01834154,\n         0.01370252, -0.00651409],\n       [-0.0123529 ,  0.00171422, -0.01640284, ..., -0.00574278,\n         0.00348815,  0.00272698],\n       [-0.01812827, -0.02528524,  0.00066675, ...,  0.02652769,\n         0.01752108,  0.02026949],\n       ...,\n       [ 0.02385384, -0.0012596 , -0.00487465, ...,  0.00410222,\n         0.00269611,  0.01718312],\n       [-0.01750427,  0.02134139,  0.01771515, ..., -0.02160138,\n         0.01715901,  0.00105419],\n       [ 0.0018922 ,  0.00220445, -0.01667919, ..., -0.01324837,\n         0.0192206 , -0.02455427]], dtype=float32)>), (None, <tf.Variable 'dense/bias:0' shape=(4096,) dtype=float32, numpy=array([0., 0., 0., ..., 0., 0., 0.], dtype=float32)>), (None, <tf.Variable 'dense_1/kernel:0' shape=(4096, 5) dtype=float32, numpy=\narray([[-0.05016363, -0.07642722, -0.05043418, -0.03785244, -0.03520614],\n       [-0.06755222, -0.03391046, -0.04699629, -0.02255305, -0.01226034],\n       [ 0.03101012,  0.04150736,  0.04817046,  0.00027685, -0.03688122],\n       ...,\n       [ 0.01838717, -0.02616538,  0.08611476, -0.09743565, -0.05444303],\n       [-0.05988976, -0.0312099 , -0.02933661, -0.00941202,  0.00992084],\n       [-0.01306307, -0.00185517, -0.04030272, -0.04140466, -0.06978505]],\n      dtype=float32)>), (None, <tf.Variable 'dense_1/bias:0' shape=(5,) dtype=float32, numpy=array([0., 0., 0., 0., 0.], dtype=float32)>), (None, <tf.Variable 'dense_2/kernel:0' shape=(5, 3) dtype=float32, numpy=\narray([[-0.48937315, -0.7541302 , -0.28301758],\n       [-0.6627616 ,  0.32196754, -0.42923644],\n       [-0.81143796,  0.01396441, -0.16410774],\n       [ 0.2694382 ,  0.7870012 ,  0.44875938],\n       [-0.5722683 , -0.21278483,  0.86066335]], dtype=float32)>), (None, <tf.Variable 'dense_2/bias:0' shape=(3,) dtype=float32, numpy=array([0., 0., 0.], dtype=float32)>)).",
     "output_type": "error",
     "traceback": [
      "\u001b[1;31m---------------------------------------------------------------------------\u001b[0m",
      "\u001b[1;31mValueError\u001b[0m                                Traceback (most recent call last)",
      "\u001b[1;32mc:\\Krish\\UW\\SE 101\\Project\\NNv1.ipynb Cell 6\u001b[0m line \u001b[0;36m3\n\u001b[0;32m      <a href='vscode-notebook-cell:/c%3A/Krish/UW/SE%20101/Project/NNv1.ipynb#W5sZmlsZQ%3D%3D?line=0'>1</a>\u001b[0m model \u001b[39m=\u001b[39m create_model()\n\u001b[0;32m      <a href='vscode-notebook-cell:/c%3A/Krish/UW/SE%20101/Project/NNv1.ipynb#W5sZmlsZQ%3D%3D?line=1'>2</a>\u001b[0m model\u001b[39m.\u001b[39mcompile(loss\u001b[39m=\u001b[39mcustom_loss, optimizer\u001b[39m=\u001b[39m\u001b[39m'\u001b[39m\u001b[39madam\u001b[39m\u001b[39m'\u001b[39m, metrics\u001b[39m=\u001b[39m[\u001b[39m'\u001b[39m\u001b[39maccuracy\u001b[39m\u001b[39m'\u001b[39m], run_eagerly\u001b[39m=\u001b[39m\u001b[39mTrue\u001b[39;00m)\n\u001b[1;32m----> <a href='vscode-notebook-cell:/c%3A/Krish/UW/SE%20101/Project/NNv1.ipynb#W5sZmlsZQ%3D%3D?line=2'>3</a>\u001b[0m model\u001b[39m.\u001b[39;49mfit(x\u001b[39m=\u001b[39;49mtrain, \n\u001b[0;32m      <a href='vscode-notebook-cell:/c%3A/Krish/UW/SE%20101/Project/NNv1.ipynb#W5sZmlsZQ%3D%3D?line=3'>4</a>\u001b[0m           y\u001b[39m=\u001b[39;49mtrain, \n\u001b[0;32m      <a href='vscode-notebook-cell:/c%3A/Krish/UW/SE%20101/Project/NNv1.ipynb#W5sZmlsZQ%3D%3D?line=4'>5</a>\u001b[0m           epochs\u001b[39m=\u001b[39;49m\u001b[39m20\u001b[39;49m, \n\u001b[0;32m      <a href='vscode-notebook-cell:/c%3A/Krish/UW/SE%20101/Project/NNv1.ipynb#W5sZmlsZQ%3D%3D?line=5'>6</a>\u001b[0m           validation_data\u001b[39m=\u001b[39;49m(train, train)\n\u001b[0;32m      <a href='vscode-notebook-cell:/c%3A/Krish/UW/SE%20101/Project/NNv1.ipynb#W5sZmlsZQ%3D%3D?line=6'>7</a>\u001b[0m )\n",
      "File \u001b[1;32mc:\\Krish\\UW\\SE 101\\Project\\venv\\Lib\\site-packages\\keras\\src\\utils\\traceback_utils.py:70\u001b[0m, in \u001b[0;36mfilter_traceback.<locals>.error_handler\u001b[1;34m(*args, **kwargs)\u001b[0m\n\u001b[0;32m     67\u001b[0m     filtered_tb \u001b[39m=\u001b[39m _process_traceback_frames(e\u001b[39m.\u001b[39m__traceback__)\n\u001b[0;32m     68\u001b[0m     \u001b[39m# To get the full stack trace, call:\u001b[39;00m\n\u001b[0;32m     69\u001b[0m     \u001b[39m# `tf.debugging.disable_traceback_filtering()`\u001b[39;00m\n\u001b[1;32m---> 70\u001b[0m     \u001b[39mraise\u001b[39;00m e\u001b[39m.\u001b[39mwith_traceback(filtered_tb) \u001b[39mfrom\u001b[39;00m \u001b[39mNone\u001b[39;00m\n\u001b[0;32m     71\u001b[0m \u001b[39mfinally\u001b[39;00m:\n\u001b[0;32m     72\u001b[0m     \u001b[39mdel\u001b[39;00m filtered_tb\n",
      "File \u001b[1;32mc:\\Krish\\UW\\SE 101\\Project\\venv\\Lib\\site-packages\\keras\\src\\optimizers\\utils.py:77\u001b[0m, in \u001b[0;36mfilter_empty_gradients\u001b[1;34m(grads_and_vars)\u001b[0m\n\u001b[0;32m     75\u001b[0m \u001b[39mif\u001b[39;00m \u001b[39mnot\u001b[39;00m filtered:\n\u001b[0;32m     76\u001b[0m     variable \u001b[39m=\u001b[39m ([v\u001b[39m.\u001b[39mname \u001b[39mfor\u001b[39;00m _, v \u001b[39min\u001b[39;00m grads_and_vars],)\n\u001b[1;32m---> 77\u001b[0m     \u001b[39mraise\u001b[39;00m \u001b[39mValueError\u001b[39;00m(\n\u001b[0;32m     78\u001b[0m         \u001b[39mf\u001b[39m\u001b[39m\"\u001b[39m\u001b[39mNo gradients provided for any variable: \u001b[39m\u001b[39m{\u001b[39;00mvariable\u001b[39m}\u001b[39;00m\u001b[39m. \u001b[39m\u001b[39m\"\u001b[39m\n\u001b[0;32m     79\u001b[0m         \u001b[39mf\u001b[39m\u001b[39m\"\u001b[39m\u001b[39mProvided `grads_and_vars` is \u001b[39m\u001b[39m{\u001b[39;00mgrads_and_vars\u001b[39m}\u001b[39;00m\u001b[39m.\u001b[39m\u001b[39m\"\u001b[39m\n\u001b[0;32m     80\u001b[0m     )\n\u001b[0;32m     81\u001b[0m \u001b[39mif\u001b[39;00m vars_with_empty_grads:\n\u001b[0;32m     82\u001b[0m     logging\u001b[39m.\u001b[39mwarning(\n\u001b[0;32m     83\u001b[0m         \u001b[39m\"\u001b[39m\u001b[39mGradients do not exist for variables \u001b[39m\u001b[39m%s\u001b[39;00m\u001b[39m when minimizing the \u001b[39m\u001b[39m\"\u001b[39m\n\u001b[0;32m     84\u001b[0m         \u001b[39m\"\u001b[39m\u001b[39mloss. If you\u001b[39m\u001b[39m'\u001b[39m\u001b[39mre using `model.compile()`, did you forget to \u001b[39m\u001b[39m\"\u001b[39m\n\u001b[0;32m     85\u001b[0m         \u001b[39m\"\u001b[39m\u001b[39mprovide a `loss` argument?\u001b[39m\u001b[39m\"\u001b[39m,\n\u001b[0;32m     86\u001b[0m         ([v\u001b[39m.\u001b[39mname \u001b[39mfor\u001b[39;00m v \u001b[39min\u001b[39;00m vars_with_empty_grads]),\n\u001b[0;32m     87\u001b[0m     )\n",
      "\u001b[1;31mValueError\u001b[0m: No gradients provided for any variable: (['dense/kernel:0', 'dense/bias:0', 'dense_1/kernel:0', 'dense_1/bias:0', 'dense_2/kernel:0', 'dense_2/bias:0'],). Provided `grads_and_vars` is ((None, <tf.Variable 'dense/kernel:0' shape=(4096, 4096) dtype=float32, numpy=\narray([[-0.00670535, -0.00027026,  0.01395421, ...,  0.01834154,\n         0.01370252, -0.00651409],\n       [-0.0123529 ,  0.00171422, -0.01640284, ..., -0.00574278,\n         0.00348815,  0.00272698],\n       [-0.01812827, -0.02528524,  0.00066675, ...,  0.02652769,\n         0.01752108,  0.02026949],\n       ...,\n       [ 0.02385384, -0.0012596 , -0.00487465, ...,  0.00410222,\n         0.00269611,  0.01718312],\n       [-0.01750427,  0.02134139,  0.01771515, ..., -0.02160138,\n         0.01715901,  0.00105419],\n       [ 0.0018922 ,  0.00220445, -0.01667919, ..., -0.01324837,\n         0.0192206 , -0.02455427]], dtype=float32)>), (None, <tf.Variable 'dense/bias:0' shape=(4096,) dtype=float32, numpy=array([0., 0., 0., ..., 0., 0., 0.], dtype=float32)>), (None, <tf.Variable 'dense_1/kernel:0' shape=(4096, 5) dtype=float32, numpy=\narray([[-0.05016363, -0.07642722, -0.05043418, -0.03785244, -0.03520614],\n       [-0.06755222, -0.03391046, -0.04699629, -0.02255305, -0.01226034],\n       [ 0.03101012,  0.04150736,  0.04817046,  0.00027685, -0.03688122],\n       ...,\n       [ 0.01838717, -0.02616538,  0.08611476, -0.09743565, -0.05444303],\n       [-0.05988976, -0.0312099 , -0.02933661, -0.00941202,  0.00992084],\n       [-0.01306307, -0.00185517, -0.04030272, -0.04140466, -0.06978505]],\n      dtype=float32)>), (None, <tf.Variable 'dense_1/bias:0' shape=(5,) dtype=float32, numpy=array([0., 0., 0., 0., 0.], dtype=float32)>), (None, <tf.Variable 'dense_2/kernel:0' shape=(5, 3) dtype=float32, numpy=\narray([[-0.48937315, -0.7541302 , -0.28301758],\n       [-0.6627616 ,  0.32196754, -0.42923644],\n       [-0.81143796,  0.01396441, -0.16410774],\n       [ 0.2694382 ,  0.7870012 ,  0.44875938],\n       [-0.5722683 , -0.21278483,  0.86066335]], dtype=float32)>), (None, <tf.Variable 'dense_2/bias:0' shape=(3,) dtype=float32, numpy=array([0., 0., 0.], dtype=float32)>))."
     ]
    }
   ],
   "source": [
    "model = create_model()\n",
    "model.compile(loss=custom_loss, optimizer='adam', metrics=['accuracy'], run_eagerly=True)\n",
    "model.fit(x=train, \n",
    "          y=train, \n",
    "          epochs=20, \n",
    "          validation_data=(train, train)\n",
    ")"
   ]
  }
 ],
 "metadata": {
  "kernelspec": {
   "display_name": "venv",
   "language": "python",
   "name": "python3"
  },
  "language_info": {
   "codemirror_mode": {
    "name": "ipython",
    "version": 3
   },
   "file_extension": ".py",
   "mimetype": "text/x-python",
   "name": "python",
   "nbconvert_exporter": "python",
   "pygments_lexer": "ipython3",
   "version": "3.11.4"
  }
 },
 "nbformat": 4,
 "nbformat_minor": 2
}
